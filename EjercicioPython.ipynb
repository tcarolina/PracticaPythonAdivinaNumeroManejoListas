{
  "nbformat": 4,
  "nbformat_minor": 0,
  "metadata": {
    "colab": {
      "provenance": []
    },
    "kernelspec": {
      "name": "python3",
      "display_name": "Python 3"
    },
    "language_info": {
      "name": "python"
    }
  },
  "cells": [
    {
      "cell_type": "markdown",
      "source": [],
      "metadata": {
        "id": "1NzPL218mNFm"
      }
    },
    {
      "cell_type": "markdown",
      "source": [],
      "metadata": {
        "id": "pPaHaM3smN9l"
      }
    },
    {
      "cell_type": "code",
      "execution_count": 11,
      "metadata": {
        "colab": {
          "base_uri": "https://localhost:8080/"
        },
        "id": "8gg_E7jCmHwT",
        "outputId": "d708cbe4-39bb-44b8-99eb-a9c326e2abc0"
      },
      "outputs": [
        {
          "output_type": "stream",
          "name": "stdout",
          "text": [
            "Introduce un número (negativo para terminar): 2\n",
            "Introduce un número (negativo para terminar): 2\n",
            "Introduce un número (negativo para terminar): -1\n",
            "Los números introducidos son: [2.0, 2.0]\n"
          ]
        }
      ],
      "source": [
        "def ingresar_numeros():\n",
        "    numeros = []\n",
        "    while (num := float(input(\"Introduce un número (negativo para terminar): \"))) >= 0:\n",
        "        numeros.append(num)\n",
        "    print(\"Los números introducidos son:\", numeros)\n",
        "\n",
        "# Llamar a la función\n",
        "ingresar_numeros()\n"
      ]
    },
    {
      "cell_type": "code",
      "source": [
        "def crear_listas_y_sumar():\n",
        "    lista1 = [int(input(f\"Elemento {i+5} para lista1: \")) for i in range(1)]\n",
        "    lista2 = [int(input(f\"Elemento {i+5} para lista2: \")) for i in range(1)]\n",
        "    lista3 = [a + b for a, b in zip(lista1, lista2)]\n",
        "\n",
        "    print(\"Lista 1:\", lista1)\n",
        "    print(\"Lista 2:\", lista2)\n",
        "    print(\"Lista 3 (suma de lista1 y lista2):\", lista3)\n",
        "\n",
        "crear_listas_y_sumar()"
      ],
      "metadata": {
        "colab": {
          "base_uri": "https://localhost:8080/"
        },
        "id": "qpCj4Cn9Nvft",
        "outputId": "6266135c-422e-4535-b169-8a712d60d2d2"
      },
      "execution_count": 8,
      "outputs": [
        {
          "output_type": "stream",
          "name": "stdout",
          "text": [
            "Elemento 5 para lista1: 11111\n",
            "Elemento 5 para lista2: 11111\n",
            "Lista 1: [11111]\n",
            "Lista 2: [11111]\n",
            "Lista 3 (suma de lista1 y lista2): [22222]\n"
          ]
        }
      ]
    },
    {
      "cell_type": "code",
      "source": [
        "def registrar_temperaturas():\n",
        "    temperaturas = [(float(input(f\"Pon Temperatura Minima día {i+1}: \")), float(input(f\"Pon Temperatura 3Máxima día {i+1}: \"))) for i in range(5)]\n",
        "\n",
        "    medias = [(minima + maxima) / 2 for minima, maxima in temperaturas]\n",
        "    print(\"\\nTemperaturas medias de cada día:\", medias)\n",
        "\n",
        "    menor_temp = min(temperaturas, key=lambda x: x[0])[0]\n",
        "    dias_con_menor_temp = [i + 1 for i, (minima, _) in enumerate(temperaturas) if minima == menor_temp]\n",
        "    print(\"Días con la menor temperatura:\", dias_con_menor_temp)\n",
        "\n",
        "    temperatura_buscada = float(input(\"\\nTemperatura máxima a buscar: \"))\n",
        "    dias_con_temp_max = [i + 1 for i, (_, maxima) in enumerate(temperaturas) if maxima == temperatura_buscada]\n",
        "\n",
        "    if dias_con_temp_max:\n",
        "        print(\"Días con temperatura máxima de\", temperatura_buscada, \":\", dias_con_temp_max)\n",
        "    else:\n",
        "        print(\"No existe ningún día con esa temperatura máxima.\")\n",
        "\n",
        "# Llamar a la función\n",
        "registrar_temperaturas()\n"
      ],
      "metadata": {
        "colab": {
          "base_uri": "https://localhost:8080/"
        },
        "id": "rNxPdzb0RJsr",
        "outputId": "3f365e6f-fd41-4192-c311-f59499776b83"
      },
      "execution_count": 15,
      "outputs": [
        {
          "output_type": "stream",
          "name": "stdout",
          "text": [
            "Pon Temperatura Minima día 1: 1\n",
            "Pon Temperatura Máxima día 1: 2\n",
            "Pon Temperatura Minima día 2: 5\n",
            "Pon Temperatura Máxima día 2: 9\n",
            "Pon Temperatura Minima día 3: 6\n",
            "Pon Temperatura Máxima día 3: 4\n",
            "Pon Temperatura Minima día 4: 8\n",
            "Pon Temperatura Máxima día 4: 4\n",
            "Pon Temperatura Minima día 5: 6\n",
            "Pon Temperatura Máxima día 5: 6\n",
            "\n",
            "Temperaturas medias de cada día: [1.5, 7.0, 5.0, 6.0, 6.0]\n",
            "Días con la menor temperatura: [1]\n",
            "\n",
            "Temperatura máxima a buscar: 5\n",
            "No existe ningún día con esa temperatura máxima.\n"
          ]
        }
      ]
    },
    {
      "cell_type": "code",
      "source": [
        "import random\n",
        "\n",
        "def adivina_el_numero():\n",
        "    numero_a_adivinar = random.randint(1, 100)\n",
        "    print(\"Adivina el número (1-100). Tienes 10 intentos.\")\n",
        "\n",
        "    for intento in range(1, 11):\n",
        "        try:\n",
        "            guess = int(input(f\"Intento {intento}: \"))\n",
        "            if 1 <= guess <= 100:\n",
        "                if guess == numero_a_adivinar:\n",
        "                    print(f\"¡Felicidades! Adivinaste en el intento {intento}.\")\n",
        "                    return\n",
        "                print(\"El número es\", \"mayor.\" if guess < numero_a_adivinar else \"menor.\")\n",
        "            else:\n",
        "                print(\"Número fuera de rango.\")\n",
        "        except ValueError:\n",
        "            print(\"Entrada inválida.\")\n",
        "\n",
        "    print(f\"El número era: {numero_a_adivinar}.\")\n",
        "\n",
        "# Llamar a la función\n",
        "adivina_el_numero()\n"
      ],
      "metadata": {
        "colab": {
          "base_uri": "https://localhost:8080/"
        },
        "id": "JoFYg7IHTYTz",
        "outputId": "ecd78dfa-de5c-4e13-aa8b-4796027a1659"
      },
      "execution_count": 16,
      "outputs": [
        {
          "output_type": "stream",
          "name": "stdout",
          "text": [
            "Adivina el número (1-100). Tienes 10 intentos.\n",
            "Intento 1: 5\n",
            "El número es mayor.\n",
            "Intento 2: 9\n",
            "El número es mayor.\n",
            "Intento 3: 15\n",
            "El número es mayor.\n",
            "Intento 4: 55\n",
            "El número es mayor.\n",
            "Intento 5: 80\n",
            "¡Felicidades! Adivinaste en el intento 5.\n"
          ]
        }
      ]
    }
  ]
}